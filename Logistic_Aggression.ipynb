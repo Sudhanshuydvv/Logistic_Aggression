{
  "nbformat": 4,
  "nbformat_minor": 0,
  "metadata": {
    "colab": {
      "provenance": []
    },
    "kernelspec": {
      "name": "python3",
      "display_name": "Python 3"
    },
    "language_info": {
      "name": "python"
    }
  },
  "cells": [
    {
      "cell_type": "markdown",
      "source": [
        "#**Theoretical Questions:**\n"
      ],
      "metadata": {
        "id": "uHxRCaZsdv6M"
      }
    },
    {
      "cell_type": "markdown",
      "source": [
        "#1. What is Logistic Regression, and how does it differ from Linear Regression?\n",
        " - **Logistic Regression** is a statistical model used for binary classification, which means it predicts a categorical outcome that can take on one of two values (e.g., yes/no, true/false, 0/1). It's often used when you want to model the probability of a certain event occurring.\n",
        " - The key difference lies in the type of outcome variable they predict. Linear Regression is for continuous outcomes, while Logistic Regression is for categorical outcomes [1]. Logistic Regression uses a sigmoid function to transform the output of the linear equation into a probability between 0 and 1, which is then used to classify the outcome."
      ],
      "metadata": {
        "id": "Ce3gH06Sd7TY"
      }
    },
    {
      "cell_type": "markdown",
      "source": [
        "#2. What is the mathematical equation of Logistic Regression?\n",
        " - Logistic Regression is used for binary classification problems, where the outcome can be either 0 or 1. It is based on the sigmoid function, which maps any real number into a value between 0 and 1.\n",
        "\n",
        "The mathematical equation for Logistic Regression is:\n",
        "\n",
        "𝑝\n",
        "(\n",
        "𝑦\n",
        "=\n",
        "1\n",
        "∣\n",
        "𝑋\n",
        ")\n",
        "=\n",
        "1\n",
        "1\n",
        "+\n",
        "𝑒\n",
        "−\n",
        "(\n",
        "𝛽\n",
        "0\n",
        "+\n",
        "𝛽\n",
        "1\n",
        "𝑋\n",
        "1\n",
        "+\n",
        "𝛽\n",
        "2\n",
        "𝑋\n",
        "2\n",
        "+\n",
        ".\n",
        ".\n",
        ".\n",
        "+\n",
        "𝛽\n",
        "𝑛\n",
        "𝑋\n",
        "𝑛\n",
        ")\n",
        "\n",
        "Where:\n",
        "\n",
        " - 𝑝\n",
        "(\n",
        "𝑦\n",
        "=\n",
        "1\n",
        "∣\n",
        "𝑋\n",
        ")\n",
        " is the probability that the outcome is 1 given the input\n",
        "𝑋\n",
        ".\n",
        "\n",
        " - 𝛽\n",
        "0\n",
        " is the intercept.\n",
        "\n",
        " - 𝛽\n",
        "1\n",
        ",\n",
        "𝛽\n",
        "2\n",
        ",\n",
        ".\n",
        ".\n",
        ".\n",
        ",\n",
        "𝛽\n",
        "𝑛\n",
        " are the coefficients of the independent variables\n",
        "𝑋\n",
        "1\n",
        ",\n",
        "𝑋\n",
        "2\n",
        ",\n",
        ".\n",
        ".\n",
        ".\n",
        ",\n",
        "𝑋\n",
        "𝑛\n",
        ".\n",
        "\n",
        " - 𝑒\n",
        " is Euler's number (approximately 2.718).\n",
        "\n",
        " - The term inside the exponent\n",
        "\n",
        "𝛽\n",
        "0\n",
        "+\n",
        "𝛽\n",
        "1\n",
        "𝑋\n",
        "1\n",
        "+\n",
        "𝛽\n",
        "2\n",
        "𝑋\n",
        "2\n",
        "+\n",
        ".\n",
        ".\n",
        ".\n",
        "+\n",
        "𝛽\n",
        "𝑛\n",
        "𝑋\n",
        "𝑛\n",
        " represents a linear combination of the input features."
      ],
      "metadata": {
        "id": "nHSawqIweXbT"
      }
    },
    {
      "cell_type": "markdown",
      "source": [
        "#3. Why do we use the Sigmoid function in Logistic Regression?\n",
        " - The Sigmoid function is crucial in Logistic Regression because it transforms linear outputs into probabilities, making it ideal for classification tasks. Here’s why:\n",
        "- **Probability Output:** The Sigmoid function maps any input value to a range between 0 and 1, which can be interpreted as the probability of belonging to a certain class.\n",
        "- **Non-Linearity:** Even though Logistic Regression uses a linear model, the Sigmoid function introduces non-linearity, allowing for more flexibility in decision boundaries.\n",
        "- **Thresholding for Classification:** Once we obtain probability values, we can set a threshold (commonly 0.5) to decide the class label—values above the threshold belong to one category, while values below belong to another.\n",
        "- **Gradient-Based Optimization:** Since the Sigmoid function is differentiable, it enables optimization techniques like gradient descent to efficiently update model parameters during training.\n"
      ],
      "metadata": {
        "id": "J9Kh0lrNmbnK"
      }
    },
    {
      "cell_type": "markdown",
      "source": [
        "#4. What is the cost function of Logistic Regression?\n",
        " - In Logistic Regression, we use the Log Loss (or Binary Cross-Entropy) as the cost function. Since the Sigmoid function outputs probabilities, we need a cost function that measures how well the predicted probabilities match the actual labels.\n",
        "\n",
        " The formula is:\n",
        "\n",
        "\n",
        "[ J(\\theta) = - \\frac{1}{m} \\sum_{i=1}{(i)} \\log(h_{\\theta}(x^{(i)})) + (1 - y^{(i)}) \\log(1 - h_{\\theta}(x^{(i)})) \\right] ]\n",
        "\n",
        "Where:\n",
        "- ( m ) is the number of training examples.\n",
        "- ( y^{(i)} ) is the actual class label (0 or 1).\n",
        "- ( h_{\\theta}(x^{(i)}) ) is the predicted probability from the Sigmoid function.\n",
        "- The logarithm ensures that confident, correct predictions are rewarded while incorrect predictions are penalized heavily.\n"
      ],
      "metadata": {
        "id": "laJNDQNfLomI"
      }
    },
    {
      "cell_type": "markdown",
      "source": [
        "#5. What is Regularization in Logistic Regression? Why is it needed?\n",
        " - **Regularization** in Logistic Regression is a technique used to prevent overfitting by adding a penalty term to the cost function. It ensures that the model learns a generalizable decision boundary rather than memorizing the training data. Here’s why it’s important:\n",
        "\n",
        " Why is Regularization Needed?\n",
        "- Overfitting Prevention: Logistic Regression can assign very large weights to some features, making the model too sensitive to noise. Regularization discourages excessively large weights and improves generalization.\n",
        "- Feature Selection: In high-dimensional datasets, regularization helps reduce the impact of irrelevant features, leading to a more efficient model.\n",
        "- Stable Optimization: Large coefficients can cause numerical instability during training, and regularization ensures a smooth learning process.\n"
      ],
      "metadata": {
        "id": "6TSngbzYMUsc"
      }
    },
    {
      "cell_type": "markdown",
      "source": [
        "#6. Explain the difference between Lasso, Ridge, and Elastic Net regression.\n",
        " - Ridge Regression (L2 Regularization)\n",
        "    - Penalty: Adds the sum of the squared coefficients to the cost function.\n",
        "    - Effect: Shrinks coefficients but doesn’t set them to zero. All features remain in the model.\n",
        "    - Use Case: Ideal when all predictors are relevant but need to be reduced in magnitude.\n",
        "  \n",
        " - Lasso Regression (L1 Regularization)\n",
        "    - Penalty: Adds the sum of the absolute values of coefficients.\n",
        "    - Effect: Encourages sparsity by forcing some coefficients to become exactly zero, effectively selecting important features.\n",
        "    - Use Case: Great for feature selection, especially when many predictors are irrelevant.\n",
        "\n",
        " -  Elastic Net Regression (Combination of L1 and L2)\n",
        "    - Penalty: A mix of Lasso and Ridge, controlled by an additional parameter.\n",
        "    - Effect: Balances sparsity (Lasso) with coefficient shrinkage (Ridge), handling situations where features are correlated.\n",
        "    - Use Case: Useful when dealing with high-dimensional data with multicollinearity.\n",
        "    \n",
        "\n"
      ],
      "metadata": {
        "id": "Y66G2KW0M4ai"
      }
    },
    {
      "cell_type": "markdown",
      "source": [
        "#7. When should we use Elastic Net instead of Lasso or Ridge?\n",
        " - Elastic Net is particularly useful when you have high-dimensional data with correlated features. Here’s when you should consider using it instead of Lasso or Ridge:\n",
        "- When Lasso Struggles with Multicollinearity: Lasso tends to arbitrarily select one correlated feature and discard the rest, which can lead to unstable results. Elastic Net, by blending L1 and L2 penalties, allows for better feature selection while keeping correlated variables.\n",
        "- When Ridge Keeps Too Many Features: Ridge shrinks coefficients but doesn’t force any to be zero. If your goal is to perform feature selection while still controlling for multicollinearity, Elastic Net is a good middle ground.\n",
        "- When You Have More Features Than Observations: If your dataset has many predictors (potentially more than samples), Lasso may select too few while Ridge keeps too many. Elastic Net balances these extremes by allowing some sparsity while avoiding excessive elimination.\n",
        "- When You Want a More Flexible Regularization Model: Elastic Net has a tunable parameter ((\\alpha)) that controls the balance between L1 and L2 regularization, giving you more control over the model complexity.\n"
      ],
      "metadata": {
        "id": "U78IsKF-N_lH"
      }
    },
    {
      "cell_type": "markdown",
      "source": [
        "#8. What is the impact of the regularization parameter (λ) in Logistic Regression?\n",
        " - The regularization parameter ( \\lambda ) plays a crucial role in controlling the complexity of the model in Logistic Regression. Here’s how it impacts the model:\n",
        "1. **Controls Model Complexity**\n",
        "- A small ( \\lambda ) means less regularization, allowing the model to fit the training data more closely. This can lead to overfitting, where the model captures noise instead of general patterns.\n",
        "- A large ( \\lambda ) increases regularization, penalizing large coefficients and making the model simpler. This can help prevent overfitting but may lead to underfitting, where the model is too constrained to capture important patterns.\n",
        "2. **Affects Feature Weights**\n",
        "- Higher ( \\lambda ) forces the model to reduce the magnitude of the coefficients, leading to a more stable and generalizable solution.\n",
        "- In L1 regularization (Lasso), higher ( \\lambda ) can push some feature coefficients to exactly zero, effectively performing feature selection.\n",
        "- In L2 regularization (Ridge), higher ( \\lambda ) shrinks all coefficients, but none become exactly zero.\n",
        "3. **Impacts Decision Boundaries**\n",
        "- Without regularization (( \\lambda = 0 )), Logistic Regression might find sharp decision boundaries, leading to poor generalization.\n",
        "- With moderate ( \\lambda ), the boundaries become smoother, improving robustness to new data.\n",
        "- Excessive ( \\lambda ) makes the model too rigid, potentially missing important distinctions between classes.\n",
        "Finding the Right ( \\lambda )\n",
        "- Typically, cross-validation is used to tune ( \\lambda ) and find the balance between bias and variance.\n",
        "- A good choice of ( \\lambda ) leads to an optimal trade-off between accuracy and generalization.\n",
        "Would you like to see an example of how different ( \\lambda ) values affect model performance?\n"
      ],
      "metadata": {
        "id": "1sWqpVuaONkI"
      }
    },
    {
      "cell_type": "markdown",
      "source": [
        "#9. What are the key assumptions of Logistic Regression?\n",
        " - Logistic Regression relies on several key assumptions to ensure its effectiveness in classification tasks. Unlike linear regression, it does not require the target variable to be continuous, but it does have its own set of requirements:\n",
        "1. **Independent Observation**\n",
        "2. **No Multicollinearity**\n",
        "3. **Linearity in Log-Odds**\n",
        "4. **Large Sample Size**\n",
        "5. **The Dependent Variable is Binary or Multiclass (Categorical)**\n",
        "6. **No Outliers with Extreme Influence**"
      ],
      "metadata": {
        "id": "Ajm6yh01O10m"
      }
    },
    {
      "cell_type": "markdown",
      "source": [
        "#10. What are some alternatives to Logistic Regression for classification tasks?\n",
        " - There are several alternatives to Logistic Regression that can be used for classification tasks, depending on the nature of your data and the problem you're trying to solve. Here are some popular alternatives:\n",
        "1. **Decision Trees**\n",
        "2. **Random Forest**\n",
        "3. **Support Vector Machines (SVM)**\n",
        "4. **K-Nearest Neighbors (KNN)**\n",
        "5. **Naïve Bayes**\n",
        "6. **Neural Networks**\n",
        "7. **Gradient Boosting Methods**"
      ],
      "metadata": {
        "id": "XW6QXkNsP2Fw"
      }
    },
    {
      "cell_type": "markdown",
      "source": [
        "#11. What are Classification Evaluation Metrics?\n",
        " - Classification evaluation metrics are used to assess the performance of a classification model. They help determine how well the model predicts categorical labels. here are some key matrics:     \n",
        " 1. **Accuracy** - It measures the overall correctness of predictions.\n",
        " 2. **Precision** - It focuses on how many positive predictions were actually correct.\n",
        " 3. **Recall( Sensitivity)** - It measures the ability of the model to correctly identify all relevant cases.\n",
        " 4. **F1 Score** - A balance between precision and recall.\n",
        " 5. **ROC Curve & AUC** - It shows the trade-off between true positive rate and false positive rate. AUC(Area Under the Curve) quantifies this performance.\n",
        " 6. **Confusion Matrix** - A table displaying actual vs. predicted classifications, helping visualize model errors."
      ],
      "metadata": {
        "id": "tZPSYHeTT4cI"
      }
    },
    {
      "cell_type": "markdown",
      "source": [
        "#12. How does class imbalance affect Logistic Regression?\n",
        " - Class imbalance can significantly impact Logistic Regression, leading to biased predictions and poor model performance. Here’s how:        \n",
        "**Effects of Class Imbalance:**\n",
        " 1. **Biased Predictions**\n",
        " 2. **Poor Recall for Minority Class**\n",
        " 3. **Misleading Accuracy**\n",
        " 4. **Skewed Probability Estimates**\n"
      ],
      "metadata": {
        "id": "SZbQo8dfpR2w"
      }
    },
    {
      "cell_type": "markdown",
      "source": [
        "#13. What is Hyperparameter Tuning in Logistic Regression?\n",
        " - Hyperparameter tuning in Logistic Regression refers to the process of optimizing parameters that are not learned during training but instead set manually to improve the model’s performance. These hyperparameters affect how the model learns and generalizes."
      ],
      "metadata": {
        "id": "l9PUXipDrfIY"
      }
    },
    {
      "cell_type": "markdown",
      "source": [
        "#14. What are different solvers in Logistic Regression? Which one should be used?\n",
        " - Logistic Regression in scikit-learn offers several solvers, each optimized for different scenarios. Here’s a breakdown:   \n",
        "**Common Solvers in Logistic Regression**\n",
        "1. **Liblinear**\n",
        "2. **lbfgs**\n",
        "3. **Newton-cg**\n",
        "4. **sag**\n",
        "5. **saga**\n",
        "\n",
        "**Which Solver Should You Use?**\n",
        " - **For small datasets →** `liblinear`\n",
        "\n",
        " - **For large datasets →** `sag` or `saga`\n",
        "\n",
        " - **For multiclass classification →** `lbfgs` or `newton-cg`\n",
        "\n",
        " - **For sparse data →** `saga`\n",
        "\n",
        " - **For L1 regularization (feature selection) →** `liblinear` or `saga`"
      ],
      "metadata": {
        "id": "SmzUC8dwry7Y"
      }
    },
    {
      "cell_type": "markdown",
      "source": [
        "#15. How is Logistic Regression extended for multiclass classification?\n",
        " - Logistic Regression is naturally designed for binary classification, but it can be extended to multiclass classification using two main approaches:\n",
        "\n",
        "**1. One-vs-Rest (OvR) Approach**\n",
        " - Also known as One-vs-All, this method trains multiple binary classifiers.\n",
        "\n",
        " - For a dataset with K classes, the model trains K separate logistic regression models.\n",
        "\n",
        " - Each model predicts whether a sample belongs to a specific class or not.\n",
        "\n",
        " - The class with the highest probability is chosen as the final prediction.\n",
        "\n",
        "**2. Softmax (Multinomial) Regression**\n",
        " - Instead of training multiple binary classifiers, Softmax Regression extends Logistic Regression to handle multiple classes directly.\n",
        "\n",
        " - Uses the Softmax function to compute probabilities for each class:\n",
        "\n",
        "𝑃\n",
        "(\n",
        "𝑦\n",
        "=\n",
        "𝑘\n",
        "∣\n",
        "𝑥\n",
        ")\n",
        "=\n",
        "𝑒\n",
        "𝜃\n",
        "𝑘\n",
        "𝑥\n",
        "∑\n",
        "𝑗\n",
        "=\n",
        "1\n",
        "𝐾\n",
        "𝑒\n",
        "𝜃\n",
        "𝑗\n",
        "𝑥\n",
        " - The model assigns a probability to each class, and the class with the highest probability is selected.\n",
        "\n",
        " - Requires cross-entropy loss instead of binary log loss."
      ],
      "metadata": {
        "id": "htPhM7qntJtk"
      }
    },
    {
      "cell_type": "markdown",
      "source": [
        "#16. What are the advantages and disadvantages of Logistic Regression?\n",
        " - **Advantages of Logistic Regression:**\n",
        " 1. **Simple & Interpretable**\n",
        " 2. **Efficient & Fast**\n",
        " 3. **Probabilistic Predictions**\n",
        " 4. **Handles Multiclass Problems**\n",
        " 5. **Feature Importance**\n",
        " 6. **Less Prone to Overfitting**\n",
        "\n",
        " - **Disadvantages of Logistic Regression:**\n",
        " 1. **Assumes Linearity**\n",
        " 2. **Sensitive to Outliers**\n",
        " 3. **Not ideal for Complex Data**\n",
        " 4. **Requires Large Sample Size**\n",
        " 5. **Multicollinearity Issues**\n",
        " 6. **Limited to Binary or Categorical Outcomes**"
      ],
      "metadata": {
        "id": "rcjbGjoKtvPQ"
      }
    },
    {
      "cell_type": "markdown",
      "source": [
        "#17. What are some use cases of Logistic Regression?\n",
        " - Logistic Regression is widely used across various domains for classification tasks. Here are some key use cases:     \n",
        "1. **Healthcare & Medical Diagnosis**\n",
        "2. **Finance & Banking**\n",
        "3. **Marketing & Customer Analytics**\n",
        "4. **Social Sciences & HR Analytics**\n",
        "5. **Manufacturing & Quality Control**\n",
        "6. **Security & Law Enforcement**"
      ],
      "metadata": {
        "id": "1CSPZClevYfn"
      }
    },
    {
      "cell_type": "markdown",
      "source": [
        "#18. What is the difference between Softmax Regression and Logistic Regression?\n",
        " - Softmax Regression and Logistic Regression are closely related, but they serve different purposes in classification tasks:\n",
        "\n",
        "**Key Differences**        \n",
        "1. **Number of Classes**\n",
        "\n",
        " - Logistic Regression is used for binary classification (two classes: 0 or 1).\n",
        " - Softmax Regression is used for multiclass classification (more than two classes).\n",
        "\n",
        "2. **Activation Function**\n",
        "\n",
        " - Logistic Regression uses the sigmoid function, which outputs probabilities between 0 and 1.\n",
        " - Softmax Regression uses the softmax function, which assigns probabilities to multiple classes, ensuring they sum to 1.\n",
        "\n",
        "3. **Decision Rule**\n",
        "\n",
        " - Logistic Regression applies a threshold (e.g., 0.5) to classify inputs into one of two categories.\n",
        " - Softmax Regression selects the class with the highest probability among multiple options.\n",
        "\n",
        "4. **Loss Function**\n",
        "\n",
        " - Logistic Regression uses binary cross-entropy loss for two-class problems.\n",
        " - Softmax Regression uses categorical cross-entropy loss, which considers multiple classes."
      ],
      "metadata": {
        "id": "l7aDPv9QwWdw"
      }
    },
    {
      "cell_type": "markdown",
      "source": [
        "#19. How do we choose between One-vs-Rest (OvR) and Softmax for multiclass classification?\n",
        " - One-vs-Rest(OVR) and Softmax(Multinomial Logistic Regression) depends on various factors, including dataset size, interpretability, and computational efficiency.          \n",
        "**One-vs-Rest(OVR) Approach:**             \n",
        "   - Each class is treated as a seperate binary classification problem. if you have K classes, you train K seperate logistic regression models, where each model predicts whether a sample belongs to a particular class or not.\n",
        "\n",
        "**Softmax(Multinomial Logistic Regression) Approach:**     \n",
        "\n",
        "   - Instead of training multiple classifiers, a single model learns to predict probabilities for all classes using the Softmax Function:       \n",
        "    𝑃\n",
        "(\n",
        "𝑦\n",
        "=\n",
        "𝑘\n",
        "∣\n",
        "𝑥\n",
        ")\n",
        "=\n",
        "𝑒\n",
        "𝜃\n",
        "𝑘\n",
        "⋅\n",
        "𝑥\n",
        "∑\n",
        "𝑗\n",
        "=\n",
        "1\n",
        "𝐾\n",
        "𝑒\n",
        "𝜃\n",
        "𝑗\n",
        "⋅\n",
        "𝑥"
      ],
      "metadata": {
        "id": "vGZ9L52VxJII"
      }
    },
    {
      "cell_type": "markdown",
      "source": [
        "#20. How do we interpret coefficients in Logistic Regression?\n",
        " - the coefficients represent the impact of each feature on the log-odds of the target class occurring.     \n",
        " Here's how we interpret them:\n",
        " 1. **Understanding the Log-Odds Interpretation**\n",
        " 2. **Converting to Odds Ratio**\n",
        " 3. **Example Interpretation**\n",
        " 4. **Important Consideration**"
      ],
      "metadata": {
        "id": "-ij9Y2ULxha9"
      }
    },
    {
      "cell_type": "markdown",
      "source": [
        "#**Practical Questions:**"
      ],
      "metadata": {
        "id": "2mr5mfWQGk5R"
      }
    },
    {
      "cell_type": "markdown",
      "source": [
        "#1. Write a Python program that loads a dataset, splits it into training and testing sets, applies Logistic Regression, and prints the model accuracy."
      ],
      "metadata": {
        "id": "1Sug8EdpGqod"
      }
    },
    {
      "cell_type": "code",
      "source": [
        "import numpy as np\n",
        "import pandas as pd\n",
        "from sklearn.model_selection import train_test_split\n",
        "from sklearn.linear_model import LogisticRegression\n",
        "from sklearn.metrics import accuracy_score\n",
        "\n",
        "from sklearn.datasets import load_iris\n",
        "data = load_iris()\n",
        "X = data.data\n",
        "y = data.target\n",
        "\n",
        "X_train, X_test, y_train, y_test = train_test_split(X, y, test_size=0.2, random_state=42)\n",
        "\n",
        "model = LogisticRegression(max_iter=200)\n",
        "model.fit(X_train, y_train)\n",
        "\n",
        "y_pred = model.predict(X_test)\n",
        "\n",
        "accuracy = accuracy_score(y_test, y_pred)\n",
        "print(f\"Model Accuracy: {accuracy:.2f}\")\n"
      ],
      "metadata": {
        "colab": {
          "base_uri": "https://localhost:8080/"
        },
        "id": "Azcq58nvG4kQ",
        "outputId": "9915c9fb-ae30-4e15-a012-219a8c3542e4"
      },
      "execution_count": null,
      "outputs": [
        {
          "output_type": "stream",
          "name": "stdout",
          "text": [
            "Model Accuracy: 1.00\n"
          ]
        }
      ]
    },
    {
      "cell_type": "markdown",
      "source": [
        "#2.Write a Python program to apply L1 regularization (Lasso) on a dataset using LogisticRegression(penalty='l1') and print the model accuracy."
      ],
      "metadata": {
        "id": "pZQhWnskGw2m"
      }
    },
    {
      "cell_type": "code",
      "source": [
        "import numpy as np\n",
        "import pandas as pd\n",
        "from sklearn.model_selection import train_test_split\n",
        "from sklearn.linear_model import LogisticRegression\n",
        "from sklearn.metrics import accuracy_score\n",
        "\n",
        "from sklearn.datasets import load_iris\n",
        "data = load_iris()\n",
        "X = data.data\n",
        "y = data.target\n",
        "\n",
        "X_train, X_test, y_train, y_test = train_test_split(X, y, test_size=0.2, random_state=42)\n",
        "\n",
        "model = LogisticRegression(penalty='l1', solver='liblinear', max_iter=200)\n",
        "model.fit(X_train, y_train)\n",
        "\n",
        "y_pred = model.predict(X_test)\n",
        "\n",
        "accuracy = accuracy_score(y_test, y_pred)\n",
        "print(f\"Model Accuracy with L1 Regularization: {accuracy:.2f}\")\n"
      ],
      "metadata": {
        "colab": {
          "base_uri": "https://localhost:8080/"
        },
        "id": "bA8A2grbHIVa",
        "outputId": "e5e412b6-f77a-446b-a933-de4ce0087706"
      },
      "execution_count": null,
      "outputs": [
        {
          "output_type": "stream",
          "name": "stdout",
          "text": [
            "Model Accuracy with L1 Regularization: 1.00\n"
          ]
        }
      ]
    },
    {
      "cell_type": "markdown",
      "source": [
        "#3. Write a Python program to train Logistic Regression with L2 regularization (Ridge) using LogisticRegression(penalty='l2'). Print model accuracy and coefficients."
      ],
      "metadata": {
        "id": "-9RjYX-0HTrp"
      }
    },
    {
      "cell_type": "code",
      "source": [
        "import numpy as np\n",
        "import pandas as pd\n",
        "from sklearn.model_selection import train_test_split\n",
        "from sklearn.linear_model import LogisticRegression\n",
        "from sklearn.metrics import accuracy_score\n",
        "\n",
        "from sklearn.datasets import load_iris\n",
        "data = load_iris()\n",
        "X = data.data\n",
        "y = data.target\n",
        "\n",
        "X_train, X_test, y_train, y_test = train_test_split(X, y, test_size=0.2, random_state=42)\n",
        "\n",
        "model = LogisticRegression(penalty='l2', solver='lbfgs', max_iter=200)\n",
        "model.fit(X_train, y_train)\n",
        "\n",
        "y_pred = model.predict(X_test)\n",
        "\n",
        "accuracy = accuracy_score(y_test, y_pred)\n",
        "print(f\"Model Accuracy with L2 Regularization: {accuracy:.2f}\")\n",
        "\n",
        "print(\"Model Coefficients:\")\n",
        "print(model.coef_)\n"
      ],
      "metadata": {
        "colab": {
          "base_uri": "https://localhost:8080/"
        },
        "id": "KGGbLW_DHhUJ",
        "outputId": "fdc39d57-5bac-4e7a-dc50-eb0e42ea96d8"
      },
      "execution_count": null,
      "outputs": [
        {
          "output_type": "stream",
          "name": "stdout",
          "text": [
            "Model Accuracy with L2 Regularization: 1.00\n",
            "Model Coefficients:\n",
            "[[-0.39345607  0.96251768 -2.37512436 -0.99874594]\n",
            " [ 0.50843279 -0.25482714 -0.21301129 -0.77574766]\n",
            " [-0.11497673 -0.70769055  2.58813565  1.7744936 ]]\n"
          ]
        }
      ]
    },
    {
      "cell_type": "markdown",
      "source": [
        "#4. Write a Python program to train Logistic Regression with Elastic Net Regularization (penalty='elasticnet')."
      ],
      "metadata": {
        "id": "cmHjko8WHe10"
      }
    },
    {
      "cell_type": "code",
      "source": [
        "import numpy as np\n",
        "import pandas as pd\n",
        "from sklearn.model_selection import train_test_split\n",
        "from sklearn.linear_model import LogisticRegression\n",
        "from sklearn.metrics import accuracy_score\n",
        "\n",
        "from sklearn.datasets import load_iris\n",
        "data = load_iris()\n",
        "X = data.data\n",
        "y = data.target\n",
        "\n",
        "X_train, X_test, y_train, y_test = train_test_split(X, y, test_size=0.2, random_state=42)\n",
        "\n",
        "model = LogisticRegression(penalty='elasticnet', solver='saga', l1_ratio=0.5, max_iter=200)\n",
        "model.fit(X_train, y_train)\n",
        "\n",
        "y_pred = model.predict(X_test)\n",
        "\n",
        "accuracy = accuracy_score(y_test, y_pred)\n",
        "print(f\"Model Accuracy with Elastic Net Regularization: {accuracy:.2f}\")\n"
      ],
      "metadata": {
        "colab": {
          "base_uri": "https://localhost:8080/"
        },
        "id": "DNGxFkvgHSKF",
        "outputId": "dd3f55d1-88dc-4823-ee84-449f8db0445d"
      },
      "execution_count": null,
      "outputs": [
        {
          "output_type": "stream",
          "name": "stdout",
          "text": [
            "Model Accuracy with Elastic Net Regularization: 1.00\n"
          ]
        },
        {
          "output_type": "stream",
          "name": "stderr",
          "text": [
            "/usr/local/lib/python3.11/dist-packages/sklearn/linear_model/_sag.py:348: ConvergenceWarning: The max_iter was reached which means the coef_ did not converge\n",
            "  warnings.warn(\n"
          ]
        }
      ]
    },
    {
      "cell_type": "markdown",
      "source": [
        "#5.Write a Python program to train a Logistic Regression model for multiclass classification using multi_class='ovr'."
      ],
      "metadata": {
        "id": "yWII8CN0JJAk"
      }
    },
    {
      "cell_type": "code",
      "source": [
        "import numpy as np\n",
        "import pandas as pd\n",
        "from sklearn.model_selection import train_test_split\n",
        "from sklearn.linear_model import LogisticRegression\n",
        "from sklearn.metrics import accuracy_score\n",
        "\n",
        "from sklearn.datasets import load_iris\n",
        "data = load_iris()\n",
        "X = data.data\n",
        "y = data.target\n",
        "\n",
        "X_train, X_test, y_train, y_test = train_test_split(X, y, test_size=0.2, random_state=42)\n",
        "\n",
        "model = LogisticRegression(multi_class='ovr', solver='liblinear', max_iter=200)\n",
        "model.fit(X_train, y_train)\n",
        "\n",
        "y_pred = model.predict(X_test)\n",
        "\n",
        "accuracy = accuracy_score(y_test, y_pred)\n",
        "print(f\"Model Accuracy with One-vs-Rest: {accuracy:.2f}\")\n"
      ],
      "metadata": {
        "colab": {
          "base_uri": "https://localhost:8080/"
        },
        "id": "akJRkKqvJQ3V",
        "outputId": "98f2bd33-b672-4797-8a21-ae9f82eb7ee1"
      },
      "execution_count": null,
      "outputs": [
        {
          "output_type": "stream",
          "name": "stdout",
          "text": [
            "Model Accuracy with One-vs-Rest: 1.00\n"
          ]
        },
        {
          "output_type": "stream",
          "name": "stderr",
          "text": [
            "/usr/local/lib/python3.11/dist-packages/sklearn/linear_model/_logistic.py:1256: FutureWarning: 'multi_class' was deprecated in version 1.5 and will be removed in 1.7. Use OneVsRestClassifier(LogisticRegression(..)) instead. Leave it to its default value to avoid this warning.\n",
            "  warnings.warn(\n"
          ]
        }
      ]
    },
    {
      "cell_type": "markdown",
      "source": [
        "#6.Write a Python program to apply GridSearchCV to tune the hyperparameters (C and penalty) of Logistic Regression. Print the best parameters and accuracy."
      ],
      "metadata": {
        "id": "yi-sGHhoJ1vN"
      }
    },
    {
      "cell_type": "code",
      "source": [
        "import numpy as np\n",
        "import pandas as pd\n",
        "from sklearn.model_selection import train_test_split\n",
        "from sklearn.linear_model import LogisticRegression\n",
        "from sklearn.model_selection import GridSearchCV\n",
        "from sklearn.metrics import accuracy_score\n",
        "\n",
        "from sklearn.datasets import load_iris\n",
        "data = load_iris()\n",
        "X = data.data\n",
        "y = data.target\n",
        "\n",
        "X_train, X_test, y_train, y_test = train_test_split(X, y, test_size=0.2, random_state=42)\n",
        "\n",
        "param_grid = {\n",
        "    'C': [0.01, 0.1, 1, 10, 100],\n",
        "    'penalty': ['l1', 'l2']\n",
        "}\n",
        "\n",
        "model = GridSearchCV(LogisticRegression(solver='liblinear', max_iter=200), param_grid, cv=5)\n",
        "model.fit(X_train, y_train)\n",
        "\n",
        "best_params = model.best_params_\n",
        "print(f\"Best Parameters: {best_params}\")\n",
        "\n",
        "y_pred = model.predict(X_test)\n",
        "\n",
        "accuracy = accuracy_score(y_test, y_pred)\n",
        "print(f\"Model Accuracy with Best Parameters: {accuracy:.2f}\")\n"
      ],
      "metadata": {
        "colab": {
          "base_uri": "https://localhost:8080/"
        },
        "id": "wRfbTHW3J-lW",
        "outputId": "657fb88f-7b34-40cf-f6dd-2eec34c9824d"
      },
      "execution_count": null,
      "outputs": [
        {
          "output_type": "stream",
          "name": "stdout",
          "text": [
            "Best Parameters: {'C': 10, 'penalty': 'l1'}\n",
            "Model Accuracy with Best Parameters: 1.00\n"
          ]
        }
      ]
    },
    {
      "cell_type": "markdown",
      "source": [
        "#7.Write a Python program to evaluate Logistic Regression using Stratified K-Fold Cross-Validation. Print the average accuracy."
      ],
      "metadata": {
        "id": "KWcix2siJ-A5"
      }
    },
    {
      "cell_type": "code",
      "source": [
        "import numpy as np\n",
        "import pandas as pd\n",
        "from sklearn.model_selection import StratifiedKFold, cross_val_score\n",
        "from sklearn.linear_model import LogisticRegression\n",
        "\n",
        "from sklearn.datasets import load_iris\n",
        "data = load_iris()\n",
        "X = data.data\n",
        "y = data.target\n",
        "\n",
        "kf = StratifiedKFold(n_splits=5, shuffle=True, random_state=42)\n",
        "\n",
        "model = LogisticRegression(max_iter=200)\n",
        "\n",
        "scores = cross_val_score(model, X, y, cv=kf, scoring='accuracy')\n",
        "\n",
        "print(f\"Average Accuracy with Stratified K-Fold: {scores.mean():.2f}\")\n"
      ],
      "metadata": {
        "colab": {
          "base_uri": "https://localhost:8080/"
        },
        "id": "LPsKSXUlKaOt",
        "outputId": "e8f6f421-c34b-4b41-f52b-2fc4f32e11b1"
      },
      "execution_count": null,
      "outputs": [
        {
          "output_type": "stream",
          "name": "stdout",
          "text": [
            "Average Accuracy with Stratified K-Fold: 0.97\n"
          ]
        }
      ]
    },
    {
      "cell_type": "markdown",
      "source": [
        "#8.Write a Python program to load a dataset from a CSV file, apply Logistic Regression, and evaluate its accuracy."
      ],
      "metadata": {
        "id": "xp-pynhIKnA_"
      }
    },
    {
      "cell_type": "code",
      "source": [
        "import pandas as pd\n",
        "from sklearn.datasets import make_classification\n",
        "from sklearn.model_selection import train_test_split\n",
        "from sklearn.linear_model import LogisticRegression\n",
        "from sklearn.metrics import accuracy_score\n",
        "\n",
        "def generate_dataset():\n",
        "    X, y = make_classification(\n",
        "        n_samples=1000,\n",
        "        n_features=10,\n",
        "        n_informative=5,\n",
        "        n_redundant=2,\n",
        "        n_classes=2,\n",
        "        random_state=42\n",
        "    )\n",
        "    return pd.DataFrame(X), pd.Series(y)\n",
        "\n",
        "def prepare_data(X, y):\n",
        "    return train_test_split(X, y, test_size=0.2, random_state=42)\n",
        "\n",
        "def train_model(X_train, y_train):\n",
        "    model = LogisticRegression(max_iter=1000)\n",
        "    model.fit(X_train, y_train)\n",
        "    return model\n",
        "\n",
        "def evaluate_model(model, X_test, y_test):\n",
        "    predictions = model.predict(X_test)\n",
        "    accuracy = accuracy_score(y_test, predictions)\n",
        "    print(f\"Model Accuracy: {accuracy:.2f}\")\n",
        "\n",
        "def main():\n",
        "    X, y = generate_dataset()\n",
        "    X_train, X_test, y_train, y_test = prepare_data(X, y)\n",
        "    model = train_model(X_train, y_train)\n",
        "    evaluate_model(model, X_test, y_test)\n",
        "\n",
        "if __name__ == \"__main__\":\n",
        "    main()\n"
      ],
      "metadata": {
        "id": "DN4zfd6rKsSV",
        "colab": {
          "base_uri": "https://localhost:8080/"
        },
        "outputId": "1d7f1166-393d-468d-92e4-5d3ac2e99c15"
      },
      "execution_count": 23,
      "outputs": [
        {
          "output_type": "stream",
          "name": "stdout",
          "text": [
            "Model Accuracy: 0.83\n"
          ]
        }
      ]
    },
    {
      "cell_type": "markdown",
      "source": [
        "#9.Write a Python program to apply RandomizedSearchCV for tuning hyperparameters (C, penalty, solver) in Logistic Regression. Print the best parameters and accuracy."
      ],
      "metadata": {
        "id": "Yx_XVge-i-CU"
      }
    },
    {
      "cell_type": "code",
      "source": [
        "import numpy as np\n",
        "import pandas as pd\n",
        "from sklearn.model_selection import train_test_split, RandomizedSearchCV\n",
        "from sklearn.linear_model import LogisticRegression\n",
        "from sklearn.metrics import accuracy_score\n",
        "from sklearn.datasets import load_iris\n",
        "\n",
        "data = load_iris()\n",
        "X = data.data\n",
        "y = data.target\n",
        "\n",
        "X_train, X_test, y_train, y_test = train_test_split(X, y, test_size=0.2, random_state=42)\n",
        "\n",
        "param_dist = {\n",
        "    'C': np.logspace(-3, 3, 7),\n",
        "    'penalty': ['l1', 'l2'],\n",
        "    'solver': ['liblinear', 'saga']\n",
        "}\n",
        "\n",
        "model = RandomizedSearchCV(LogisticRegression(max_iter=200), param_distributions=param_dist, cv=5, n_iter=10, random_state=42)\n",
        "model.fit(X_train, y_train)\n",
        "\n",
        "best_params = model.best_params_\n",
        "y_pred = model.predict(X_test)\n",
        "accuracy = accuracy_score(y_test, y_pred)\n",
        "\n",
        "print(f\"Best Parameters: {best_params}\")\n",
        "print(f\"Model Accuracy with Best Parameters: {accuracy:.2f}\")\n"
      ],
      "metadata": {
        "colab": {
          "base_uri": "https://localhost:8080/"
        },
        "id": "qARuqtfTjqLu",
        "outputId": "b97a9f41-1bb5-45a9-f8c3-f59f08ef575f"
      },
      "execution_count": 5,
      "outputs": [
        {
          "output_type": "stream",
          "name": "stderr",
          "text": [
            "/usr/local/lib/python3.11/dist-packages/sklearn/linear_model/_sag.py:348: ConvergenceWarning: The max_iter was reached which means the coef_ did not converge\n",
            "  warnings.warn(\n",
            "/usr/local/lib/python3.11/dist-packages/sklearn/linear_model/_sag.py:348: ConvergenceWarning: The max_iter was reached which means the coef_ did not converge\n",
            "  warnings.warn(\n",
            "/usr/local/lib/python3.11/dist-packages/sklearn/linear_model/_sag.py:348: ConvergenceWarning: The max_iter was reached which means the coef_ did not converge\n",
            "  warnings.warn(\n",
            "/usr/local/lib/python3.11/dist-packages/sklearn/linear_model/_sag.py:348: ConvergenceWarning: The max_iter was reached which means the coef_ did not converge\n",
            "  warnings.warn(\n",
            "/usr/local/lib/python3.11/dist-packages/sklearn/linear_model/_sag.py:348: ConvergenceWarning: The max_iter was reached which means the coef_ did not converge\n",
            "  warnings.warn(\n",
            "/usr/local/lib/python3.11/dist-packages/sklearn/linear_model/_sag.py:348: ConvergenceWarning: The max_iter was reached which means the coef_ did not converge\n",
            "  warnings.warn(\n",
            "/usr/local/lib/python3.11/dist-packages/sklearn/linear_model/_sag.py:348: ConvergenceWarning: The max_iter was reached which means the coef_ did not converge\n",
            "  warnings.warn(\n",
            "/usr/local/lib/python3.11/dist-packages/sklearn/linear_model/_sag.py:348: ConvergenceWarning: The max_iter was reached which means the coef_ did not converge\n",
            "  warnings.warn(\n",
            "/usr/local/lib/python3.11/dist-packages/sklearn/linear_model/_sag.py:348: ConvergenceWarning: The max_iter was reached which means the coef_ did not converge\n",
            "  warnings.warn(\n",
            "/usr/local/lib/python3.11/dist-packages/sklearn/linear_model/_sag.py:348: ConvergenceWarning: The max_iter was reached which means the coef_ did not converge\n",
            "  warnings.warn(\n",
            "/usr/local/lib/python3.11/dist-packages/sklearn/linear_model/_sag.py:348: ConvergenceWarning: The max_iter was reached which means the coef_ did not converge\n",
            "  warnings.warn(\n",
            "/usr/local/lib/python3.11/dist-packages/sklearn/linear_model/_sag.py:348: ConvergenceWarning: The max_iter was reached which means the coef_ did not converge\n",
            "  warnings.warn(\n",
            "/usr/local/lib/python3.11/dist-packages/sklearn/linear_model/_sag.py:348: ConvergenceWarning: The max_iter was reached which means the coef_ did not converge\n",
            "  warnings.warn(\n",
            "/usr/local/lib/python3.11/dist-packages/sklearn/linear_model/_sag.py:348: ConvergenceWarning: The max_iter was reached which means the coef_ did not converge\n",
            "  warnings.warn(\n",
            "/usr/local/lib/python3.11/dist-packages/sklearn/linear_model/_sag.py:348: ConvergenceWarning: The max_iter was reached which means the coef_ did not converge\n",
            "  warnings.warn(\n",
            "/usr/local/lib/python3.11/dist-packages/sklearn/linear_model/_sag.py:348: ConvergenceWarning: The max_iter was reached which means the coef_ did not converge\n",
            "  warnings.warn(\n",
            "/usr/local/lib/python3.11/dist-packages/sklearn/linear_model/_sag.py:348: ConvergenceWarning: The max_iter was reached which means the coef_ did not converge\n",
            "  warnings.warn(\n"
          ]
        },
        {
          "output_type": "stream",
          "name": "stdout",
          "text": [
            "Best Parameters: {'solver': 'saga', 'penalty': 'l1', 'C': np.float64(1.0)}\n",
            "Model Accuracy with Best Parameters: 1.00\n"
          ]
        },
        {
          "output_type": "stream",
          "name": "stderr",
          "text": [
            "/usr/local/lib/python3.11/dist-packages/sklearn/linear_model/_sag.py:348: ConvergenceWarning: The max_iter was reached which means the coef_ did not converge\n",
            "  warnings.warn(\n",
            "/usr/local/lib/python3.11/dist-packages/sklearn/linear_model/_sag.py:348: ConvergenceWarning: The max_iter was reached which means the coef_ did not converge\n",
            "  warnings.warn(\n",
            "/usr/local/lib/python3.11/dist-packages/sklearn/linear_model/_sag.py:348: ConvergenceWarning: The max_iter was reached which means the coef_ did not converge\n",
            "  warnings.warn(\n",
            "/usr/local/lib/python3.11/dist-packages/sklearn/linear_model/_sag.py:348: ConvergenceWarning: The max_iter was reached which means the coef_ did not converge\n",
            "  warnings.warn(\n",
            "/usr/local/lib/python3.11/dist-packages/sklearn/linear_model/_sag.py:348: ConvergenceWarning: The max_iter was reached which means the coef_ did not converge\n",
            "  warnings.warn(\n",
            "/usr/local/lib/python3.11/dist-packages/sklearn/linear_model/_sag.py:348: ConvergenceWarning: The max_iter was reached which means the coef_ did not converge\n",
            "  warnings.warn(\n",
            "/usr/local/lib/python3.11/dist-packages/sklearn/linear_model/_sag.py:348: ConvergenceWarning: The max_iter was reached which means the coef_ did not converge\n",
            "  warnings.warn(\n",
            "/usr/local/lib/python3.11/dist-packages/sklearn/linear_model/_sag.py:348: ConvergenceWarning: The max_iter was reached which means the coef_ did not converge\n",
            "  warnings.warn(\n",
            "/usr/local/lib/python3.11/dist-packages/sklearn/linear_model/_sag.py:348: ConvergenceWarning: The max_iter was reached which means the coef_ did not converge\n",
            "  warnings.warn(\n",
            "/usr/local/lib/python3.11/dist-packages/sklearn/linear_model/_sag.py:348: ConvergenceWarning: The max_iter was reached which means the coef_ did not converge\n",
            "  warnings.warn(\n",
            "/usr/local/lib/python3.11/dist-packages/sklearn/linear_model/_sag.py:348: ConvergenceWarning: The max_iter was reached which means the coef_ did not converge\n",
            "  warnings.warn(\n",
            "/usr/local/lib/python3.11/dist-packages/sklearn/linear_model/_sag.py:348: ConvergenceWarning: The max_iter was reached which means the coef_ did not converge\n",
            "  warnings.warn(\n",
            "/usr/local/lib/python3.11/dist-packages/sklearn/linear_model/_sag.py:348: ConvergenceWarning: The max_iter was reached which means the coef_ did not converge\n",
            "  warnings.warn(\n",
            "/usr/local/lib/python3.11/dist-packages/sklearn/linear_model/_sag.py:348: ConvergenceWarning: The max_iter was reached which means the coef_ did not converge\n",
            "  warnings.warn(\n"
          ]
        }
      ]
    },
    {
      "cell_type": "markdown",
      "source": [
        "#10. Write a Python program to implement One-vs-One (OvO) Multiclass Logistic Regression and print accuracy."
      ],
      "metadata": {
        "id": "pWH-x8tajD5A"
      }
    },
    {
      "cell_type": "code",
      "source": [
        "import numpy as np\n",
        "import pandas as pd\n",
        "from sklearn.model_selection import train_test_split\n",
        "from sklearn.linear_model import LogisticRegression\n",
        "from sklearn.multiclass import OneVsOneClassifier\n",
        "from sklearn.metrics import accuracy_score\n",
        "from sklearn.datasets import load_iris\n",
        "\n",
        "data = load_iris()\n",
        "X = data.data\n",
        "y = data.target\n",
        "\n",
        "X_train, X_test, y_train, y_test = train_test_split(X, y, test_size=0.2, random_state=42)\n",
        "\n",
        "model = OneVsOneClassifier(LogisticRegression(max_iter=200))\n",
        "model.fit(X_train, y_train)\n",
        "\n",
        "y_pred = model.predict(X_test)\n",
        "\n",
        "accuracy = accuracy_score(y_test, y_pred)\n",
        "\n",
        "print(f\"Model Accuracy with One-vs-One Multiclass Logistic Regression: {accuracy:.2f}\")\n"
      ],
      "metadata": {
        "colab": {
          "base_uri": "https://localhost:8080/"
        },
        "id": "q3mY55XYjpeF",
        "outputId": "0d56cd60-3fb8-4435-fdc0-b64bd963cb1b"
      },
      "execution_count": 2,
      "outputs": [
        {
          "output_type": "stream",
          "name": "stdout",
          "text": [
            "Model Accuracy with One-vs-One Multiclass Logistic Regression: 1.00\n"
          ]
        }
      ]
    },
    {
      "cell_type": "markdown",
      "source": [
        "#11.Write a Python program to train a Logistic Regression model and visualize the confusion matrix for binary classification."
      ],
      "metadata": {
        "id": "hsLK0jz7jIG_"
      }
    },
    {
      "cell_type": "code",
      "source": [
        "import numpy as np\n",
        "import pandas as pd\n",
        "import matplotlib.pyplot as plt\n",
        "import seaborn as sns\n",
        "from sklearn.model_selection import train_test_split\n",
        "from sklearn.linear_model import LogisticRegression\n",
        "from sklearn.metrics import accuracy_score, confusion_matrix\n",
        "from sklearn.datasets import make_classification\n",
        "\n",
        "X, y = make_classification(n_samples=1000, n_features=10, random_state=42)\n",
        "\n",
        "X_train, X_test, y_train, y_test = train_test_split(X, y, test_size=0.2, random_state=42)\n",
        "\n",
        "model = LogisticRegression()\n",
        "model.fit(X_train, y_train)\n",
        "\n",
        "y_pred = model.predict(X_test)\n",
        "\n",
        "cm = confusion_matrix(y_test, y_pred)\n",
        "\n",
        "accuracy = accuracy_score(y_test, y_pred)\n",
        "print(f\"Model Accuracy: {accuracy:.2f}\")\n",
        "\n",
        "plt.figure(figsize=(6, 4))\n",
        "sns.heatmap(cm, annot=True, fmt='d', cmap='Blues', xticklabels=['Negative', 'Positive'], yticklabels=['Negative', 'Positive'])\n",
        "plt.xlabel('Predicted Labels')\n",
        "plt.ylabel('True Labels')\n",
        "plt.title('Confusion Matrix')\n",
        "plt.show()\n"
      ],
      "metadata": {
        "colab": {
          "base_uri": "https://localhost:8080/",
          "height": 428
        },
        "id": "he-R5TfpjpIA",
        "outputId": "755a09c8-557a-4f22-fb2c-a626e7afb765"
      },
      "execution_count": 6,
      "outputs": [
        {
          "output_type": "stream",
          "name": "stdout",
          "text": [
            "Model Accuracy: 0.83\n"
          ]
        },
        {
          "output_type": "display_data",
          "data": {
            "text/plain": [
              "<Figure size 600x400 with 2 Axes>"
            ],
            "image/png": "[encoded data removed]"
          },
          "metadata": {}
        }
      ]
    },
    {
      "cell_type": "markdown",
      "source": [
        "#12. Write a Python program to train a Logistic Regression model and evaluate its performance using Precision, Recall, and F1-Score."
      ],
      "metadata": {
        "id": "LtyI0c2SjNg3"
      }
    },
    {
      "cell_type": "code",
      "source": [
        "import numpy as np\n",
        "import pandas as pd\n",
        "from sklearn.model_selection import train_test_split\n",
        "from sklearn.linear_model import LogisticRegression\n",
        "from sklearn.metrics import precision_score, recall_score, f1_score\n",
        "from sklearn.datasets import make_classification\n",
        "\n",
        "X, y = make_classification(n_samples=1000, n_features=10, random_state=42)\n",
        "\n",
        "X_train, X_test, y_train, y_test = train_test_split(X, y, test_size=0.2, random_state=42)\n",
        "\n",
        "model = LogisticRegression()\n",
        "model.fit(X_train, y_train)\n",
        "\n",
        "y_pred = model.predict(X_test)\n",
        "\n",
        "precision = precision_score(y_test, y_pred)\n",
        "recall = recall_score(y_test, y_pred)\n",
        "f1 = f1_score(y_test, y_pred)\n",
        "\n",
        "print(f\"Precision: {precision:.2f}\")\n",
        "print(f\"Recall: {recall:.2f}\")\n",
        "print(f\"F1-Score: {f1:.2f}\")\n"
      ],
      "metadata": {
        "colab": {
          "base_uri": "https://localhost:8080/"
        },
        "id": "t0SKDhFZjohr",
        "outputId": "15fe5644-6b9c-439f-cc3d-395f6b015622"
      },
      "execution_count": 7,
      "outputs": [
        {
          "output_type": "stream",
          "name": "stdout",
          "text": [
            "Precision: 0.87\n",
            "Recall: 0.82\n",
            "F1-Score: 0.84\n"
          ]
        }
      ]
    },
    {
      "cell_type": "markdown",
      "source": [
        "#13.Write a Python program to train a Logistic Regression model on imbalanced data and apply class weights to improve model performance."
      ],
      "metadata": {
        "id": "o1Z1EPPxjTHZ"
      }
    },
    {
      "cell_type": "code",
      "source": [
        "import numpy as np\n",
        "import pandas as pd\n",
        "from sklearn.model_selection import train_test_split\n",
        "from sklearn.linear_model import LogisticRegression\n",
        "from sklearn.metrics import accuracy_score, precision_score, recall_score, f1_score\n",
        "from sklearn.datasets import make_classification\n",
        "\n",
        "X, y = make_classification(n_samples=1000, n_features=10, weights=[0.9, 0.1], random_state=42)\n",
        "\n",
        "X_train, X_test, y_train, y_test = train_test_split(X, y, test_size=0.2, random_state=42)\n",
        "\n",
        "model = LogisticRegression(class_weight='balanced', max_iter=200)\n",
        "model.fit(X_train, y_train)\n",
        "\n",
        "y_pred = model.predict(X_test)\n",
        "\n",
        "accuracy = accuracy_score(y_test, y_pred)\n",
        "precision = precision_score(y_test, y_pred)\n",
        "recall = recall_score(y_test, y_pred)\n",
        "f1 = f1_score(y_test, y_pred)\n",
        "\n",
        "print(f\"Model Accuracy: {accuracy:.2f}\")\n",
        "print(f\"Precision: {precision:.2f}\")\n",
        "print(f\"Recall: {recall:.2f}\")\n",
        "print(f\"F1-Score: {f1:.2f}\")\n"
      ],
      "metadata": {
        "colab": {
          "base_uri": "https://localhost:8080/"
        },
        "id": "mBra4l9TjnXM",
        "outputId": "b3d8035c-54c0-45ad-952e-b40c6328b3d8"
      },
      "execution_count": 8,
      "outputs": [
        {
          "output_type": "stream",
          "name": "stdout",
          "text": [
            "Model Accuracy: 0.86\n",
            "Precision: 0.48\n",
            "Recall: 0.88\n",
            "F1-Score: 0.62\n"
          ]
        }
      ]
    },
    {
      "cell_type": "markdown",
      "source": [
        "#14.Write a Python program to train Logistic Regression on the Titanic dataset, handle missing values, and evaluate performance."
      ],
      "metadata": {
        "id": "QivbTDWpjbH9"
      }
    },
    {
      "cell_type": "code",
      "source": [
        "import numpy as np\n",
        "import pandas as pd\n",
        "from sklearn.model_selection import train_test_split\n",
        "from sklearn.linear_model import LogisticRegression\n",
        "from sklearn.metrics import accuracy_score, precision_score, recall_score, f1_score\n",
        "from sklearn.impute import SimpleImputer\n",
        "from sklearn.preprocessing import StandardScaler, LabelEncoder\n",
        "\n",
        "url = \"https://raw.githubusercontent.com/datasciencedojo/datasets/master/titanic.csv\"\n",
        "df = pd.read_csv(url)\n",
        "\n",
        "features = [\"Pclass\", \"Sex\", \"Age\", \"SibSp\", \"Parch\", \"Fare\", \"Embarked\"]\n",
        "df = df[features + [\"Survived\"]]\n",
        "\n",
        "df[\"Age\"].fillna(df[\"Age\"].median(), inplace=True)\n",
        "df[\"Embarked\"].fillna(df[\"Embarked\"].mode()[0], inplace=True)\n",
        "\n",
        "df[\"Sex\"] = LabelEncoder().fit_transform(df[\"Sex\"])\n",
        "df[\"Embarked\"] = LabelEncoder().fit_transform(df[\"Embarked\"])\n",
        "\n",
        "X = df.drop(\"Survived\", axis=1)\n",
        "y = df[\"Survived\"]\n",
        "X_train, X_test, y_train, y_test = train_test_split(X, y, test_size=0.2, random_state=42)\n",
        "\n",
        "scaler = StandardScaler()\n",
        "X_train = scaler.fit_transform(X_train)\n",
        "X_test = scaler.transform(X_test)\n",
        "\n",
        "model = LogisticRegression()\n",
        "model.fit(X_train, y_train)\n",
        "\n",
        "y_pred = model.predict(X_test)\n",
        "\n",
        "accuracy = accuracy_score(y_test, y_pred)\n",
        "precision = precision_score(y_test, y_pred)\n",
        "recall = recall_score(y_test, y_pred)\n",
        "f1 = f1_score(y_test, y_pred)\n",
        "\n",
        "print(f\"Model Accuracy: {accuracy:.2f}\")\n",
        "print(f\"Precision: {precision:.2f}\")\n",
        "print(f\"Recall: {recall:.2f}\")\n",
        "print(f\"F1-Score: {f1:.2f}\")\n"
      ],
      "metadata": {
        "colab": {
          "base_uri": "https://localhost:8080/"
        },
        "id": "W4bERJg4jm8L",
        "outputId": "f202615c-1cae-4fa5-980d-ec47991c8d92"
      },
      "execution_count": 9,
      "outputs": [
        {
          "output_type": "stream",
          "name": "stdout",
          "text": [
            "Model Accuracy: 0.80\n",
            "Precision: 0.78\n",
            "Recall: 0.73\n",
            "F1-Score: 0.76\n"
          ]
        },
        {
          "output_type": "stream",
          "name": "stderr",
          "text": [
            "<ipython-input-9-3da5375bda41>:15: FutureWarning: A value is trying to be set on a copy of a DataFrame or Series through chained assignment using an inplace method.\n",
            "The behavior will change in pandas 3.0. This inplace method will never work because the intermediate object on which we are setting values always behaves as a copy.\n",
            "\n",
            "For example, when doing 'df[col].method(value, inplace=True)', try using 'df.method({col: value}, inplace=True)' or df[col] = df[col].method(value) instead, to perform the operation inplace on the original object.\n",
            "\n",
            "\n",
            "  df[\"Age\"].fillna(df[\"Age\"].median(), inplace=True)\n",
            "<ipython-input-9-3da5375bda41>:16: FutureWarning: A value is trying to be set on a copy of a DataFrame or Series through chained assignment using an inplace method.\n",
            "The behavior will change in pandas 3.0. This inplace method will never work because the intermediate object on which we are setting values always behaves as a copy.\n",
            "\n",
            "For example, when doing 'df[col].method(value, inplace=True)', try using 'df.method({col: value}, inplace=True)' or df[col] = df[col].method(value) instead, to perform the operation inplace on the original object.\n",
            "\n",
            "\n",
            "  df[\"Embarked\"].fillna(df[\"Embarked\"].mode()[0], inplace=True)\n"
          ]
        }
      ]
    },
    {
      "cell_type": "markdown",
      "source": [
        "#15.Write a Python program to apply feature scaling (Standardization) before training a Logistic Regression model. Evaluate its accuracy and compare results with and without scaling."
      ],
      "metadata": {
        "id": "vT6oMcOTjg9T"
      }
    },
    {
      "cell_type": "code",
      "source": [
        "import numpy as np\n",
        "import pandas as pd\n",
        "from sklearn.model_selection import train_test_split\n",
        "from sklearn.linear_model import LogisticRegression\n",
        "from sklearn.preprocessing import StandardScaler\n",
        "from sklearn.metrics import accuracy_score\n",
        "from sklearn.datasets import make_classification\n",
        "\n",
        "X, y = make_classification(n_samples=1000, n_features=10, random_state=42)\n",
        "\n",
        "X_train, X_test, y_train, y_test = train_test_split(X, y, test_size=0.2, random_state=42)\n",
        "\n",
        "model_no_scaling = LogisticRegression()\n",
        "model_no_scaling.fit(X_train, y_train)\n",
        "y_pred_no_scaling = model_no_scaling.predict(X_test)\n",
        "accuracy_no_scaling = accuracy_score(y_test, y_pred_no_scaling)\n",
        "\n",
        "scaler = StandardScaler()\n",
        "X_train_scaled = scaler.fit_transform(X_train)\n",
        "X_test_scaled = scaler.transform(X_test)\n",
        "\n",
        "model_scaled = LogisticRegression()\n",
        "model_scaled.fit(X_train_scaled, y_train)\n",
        "y_pred_scaled = model_scaled.predict(X_test_scaled)\n",
        "accuracy_scaled = accuracy_score(y_test, y_pred_scaled)\n",
        "\n",
        "print(f\"Accuracy without Scaling: {accuracy_no_scaling:.2f}\")\n",
        "print(f\"Accuracy with Standardization: {accuracy_scaled:.2f}\")\n"
      ],
      "metadata": {
        "colab": {
          "base_uri": "https://localhost:8080/"
        },
        "id": "OTHSCLrojmRJ",
        "outputId": "a466005e-dab1-4f3d-ce54-bb106fba8c8b"
      },
      "execution_count": 10,
      "outputs": [
        {
          "output_type": "stream",
          "name": "stdout",
          "text": [
            "Accuracy without Scaling: 0.83\n",
            "Accuracy with Standardization: 0.83\n"
          ]
        }
      ]
    },
    {
      "cell_type": "markdown",
      "source": [
        "#16.Write a Python program to train Logistic Regression and evaluate its performance using ROC-AUC score."
      ],
      "metadata": {
        "id": "ow4we0g9l2Qv"
      }
    },
    {
      "cell_type": "code",
      "source": [
        "import numpy as np\n",
        "import pandas as pd\n",
        "import matplotlib.pyplot as plt\n",
        "from sklearn.model_selection import train_test_split\n",
        "from sklearn.linear_model import LogisticRegression\n",
        "from sklearn.metrics import roc_auc_score, roc_curve\n",
        "from sklearn.datasets import make_classification\n",
        "\n",
        "X, y = make_classification(n_samples=1000, n_features=10, random_state=42)\n",
        "\n",
        "X_train, X_test, y_train, y_test = train_test_split(X, y, test_size=0.2, random_state=42)\n",
        "\n",
        "model = LogisticRegression()\n",
        "model.fit(X_train, y_train)\n",
        "\n",
        "y_prob = model.predict_proba(X_test)[:, 1]\n",
        "\n",
        "roc_auc = roc_auc_score(y_test, y_prob)\n",
        "print(f\"ROC-AUC Score: {roc_auc:.2f}\")\n",
        "\n",
        "fpr, tpr, _ = roc_curve(y_test, y_prob)\n",
        "plt.figure(figsize=(6, 4))\n",
        "plt.plot(fpr, tpr, label=f'ROC Curve (AUC = {roc_auc:.2f})')\n",
        "plt.plot([0, 1], [0, 1], linestyle='--', color='gray')\n",
        "plt.xlabel('False Positive Rate')\n",
        "plt.ylabel('True Positive Rate')\n",
        "plt.title('ROC Curve')\n",
        "plt.legend()\n",
        "plt.show()\n"
      ],
      "metadata": {
        "colab": {
          "base_uri": "https://localhost:8080/",
          "height": 428
        },
        "id": "5RY-W7ZFmbb0",
        "outputId": "5ab9e764-c4cd-40ec-f887-a2d265447025"
      },
      "execution_count": 11,
      "outputs": [
        {
          "output_type": "stream",
          "name": "stdout",
          "text": [
            "ROC-AUC Score: 0.91\n"
          ]
        },
        {
          "output_type": "display_data",
          "data": {
            "text/plain": [
              "<Figure size 600x400 with 1 Axes>"
            ],
            "image/png": "[encoded data removed]"
          },
          "metadata": {}
        }
      ]
    },
    {
      "cell_type": "markdown",
      "source": [
        "#17.Write a Python program to train Logistic Regression using a custom learning rate (C=0.5) and evaluate accuracy."
      ],
      "metadata": {
        "id": "9oNSZ7Wjl33n"
      }
    },
    {
      "cell_type": "code",
      "source": [
        "import numpy as np\n",
        "import pandas as pd\n",
        "from sklearn.model_selection import train_test_split\n",
        "from sklearn.linear_model import LogisticRegression\n",
        "from sklearn.metrics import accuracy_score\n",
        "from sklearn.datasets import make_classification\n",
        "\n",
        "X, y = make_classification(n_samples=1000, n_features=10, random_state=42)\n",
        "\n",
        "X_train, X_test, y_train, y_test = train_test_split(X, y, test_size=0.2, random_state=42)\n",
        "\n",
        "model = LogisticRegression(C=0.5, max_iter=200)\n",
        "model.fit(X_train, y_train)\n",
        "\n",
        "y_pred = model.predict(X_test)\n",
        "\n",
        "accuracy = accuracy_score(y_test, y_pred)\n",
        "print(f\"Model Accuracy with C=0.5: {accuracy:.2f}\")\n"
      ],
      "metadata": {
        "colab": {
          "base_uri": "https://localhost:8080/"
        },
        "id": "U6oqR2APmoXn",
        "outputId": "deb3bdf0-37f0-4fdf-bf30-2f4c1f1326ce"
      },
      "execution_count": 12,
      "outputs": [
        {
          "output_type": "stream",
          "name": "stdout",
          "text": [
            "Model Accuracy with C=0.5: 0.83\n"
          ]
        }
      ]
    },
    {
      "cell_type": "markdown",
      "source": [
        "#18.Write a Python program to train Logistic Regression and identify important features based on model coefficients."
      ],
      "metadata": {
        "id": "VCBYU4W1l9IR"
      }
    },
    {
      "cell_type": "code",
      "source": [
        "import numpy as np\n",
        "import pandas as pd\n",
        "from sklearn.model_selection import train_test_split\n",
        "from sklearn.linear_model import LogisticRegression\n",
        "from sklearn.datasets import make_classification\n",
        "\n",
        "X, y = make_classification(n_samples=1000, n_features=10, random_state=42)\n",
        "\n",
        "X_train, X_test, y_train, y_test = train_test_split(X, y, test_size=0.2, random_state=42)\n",
        "\n",
        "model = LogisticRegression()\n",
        "model.fit(X_train, y_train)\n",
        "\n",
        "feature_importance = model.coef_[0]\n",
        "\n",
        "feature_names = [f'Feature {i+1}' for i in range(X.shape[1])]\n",
        "important_features = sorted(zip(feature_names, feature_importance), key=lambda x: abs(x[1]), reverse=True)\n",
        "\n",
        "print(\"Feature Importance Ranking (Higher absolute value indicates more importance):\")\n",
        "for feature, importance in important_features:\n",
        "    print(f\"{feature}: {importance:.4f}\")\n"
      ],
      "metadata": {
        "colab": {
          "base_uri": "https://localhost:8080/"
        },
        "id": "vWXS70d6mxsu",
        "outputId": "2a3e14fe-b6ec-4e4a-c4e5-d74b0a0d61a8"
      },
      "execution_count": 13,
      "outputs": [
        {
          "output_type": "stream",
          "name": "stdout",
          "text": [
            "Feature Importance Ranking (Higher absolute value indicates more importance):\n",
            "Feature 7: 1.6204\n",
            "Feature 3: -0.7451\n",
            "Feature 9: -0.6290\n",
            "Feature 1: -0.4522\n",
            "Feature 6: -0.2288\n",
            "Feature 2: 0.1612\n",
            "Feature 10: 0.1025\n",
            "Feature 4: 0.0555\n",
            "Feature 5: -0.0432\n",
            "Feature 8: -0.0033\n"
          ]
        }
      ]
    },
    {
      "cell_type": "markdown",
      "source": [
        "#19.Write a Python program to train Logistic Regression and evaluate its performance using Cohen’s Kappa Score."
      ],
      "metadata": {
        "id": "eHbYrx-amB7V"
      }
    },
    {
      "cell_type": "code",
      "source": [
        "import numpy as np\n",
        "import pandas as pd\n",
        "from sklearn.model_selection import train_test_split\n",
        "from sklearn.linear_model import LogisticRegression\n",
        "from sklearn.metrics import cohen_kappa_score\n",
        "from sklearn.datasets import make_classification\n",
        "\n",
        "X, y = make_classification(n_samples=1000, n_features=10, random_state=42)\n",
        "\n",
        "X_train, X_test, y_train, y_test = train_test_split(X, y, test_size=0.2, random_state=42)\n",
        "\n",
        "model = LogisticRegression()\n",
        "model.fit(X_train, y_train)\n",
        "\n",
        "y_pred = model.predict(X_test)\n",
        "\n",
        "kappa_score = cohen_kappa_score(y_test, y_pred)\n",
        "print(f\"Cohen’s Kappa Score: {kappa_score:.2f}\")\n"
      ],
      "metadata": {
        "colab": {
          "base_uri": "https://localhost:8080/"
        },
        "id": "WSm0grUcm_b3",
        "outputId": "a561f003-4575-4825-d476-ed6a3a8cdc0e"
      },
      "execution_count": 14,
      "outputs": [
        {
          "output_type": "stream",
          "name": "stdout",
          "text": [
            "Cohen’s Kappa Score: 0.66\n"
          ]
        }
      ]
    },
    {
      "cell_type": "markdown",
      "source": [
        "#20.Write a Python program to train Logistic Regression and visualize the Precision-Recall Curve for binary classification."
      ],
      "metadata": {
        "id": "rAwiuvCRmGJB"
      }
    },
    {
      "cell_type": "code",
      "source": [
        "import numpy as np\n",
        "import pandas as pd\n",
        "import matplotlib.pyplot as plt\n",
        "from sklearn.model_selection import train_test_split\n",
        "from sklearn.linear_model import LogisticRegression\n",
        "from sklearn.metrics import precision_recall_curve, auc\n",
        "from sklearn.datasets import make_classification\n",
        "\n",
        "X, y = make_classification(n_samples=1000, n_features=10, random_state=42)\n",
        "\n",
        "X_train, X_test, y_train, y_test = train_test_split(X, y, test_size=0.2, random_state=42)\n",
        "\n",
        "model = LogisticRegression()\n",
        "model.fit(X_train, y_train)\n",
        "\n",
        "y_prob = model.predict_proba(X_test)[:, 1]\n",
        "\n",
        "precision, recall, _ = precision_recall_curve(y_test, y_prob)\n",
        "pr_auc = auc(recall, precision)\n",
        "\n",
        "plt.figure(figsize=(6, 4))\n",
        "plt.plot(recall, precision, label=f'PR Curve (AUC = {pr_auc:.2f})', color='purple')\n",
        "plt.xlabel('Recall')\n",
        "plt.ylabel('Precision')\n",
        "plt.title('Precision-Recall Curve')\n",
        "plt.legend()\n",
        "plt.show()\n"
      ],
      "metadata": {
        "colab": {
          "base_uri": "https://localhost:8080/",
          "height": 410
        },
        "id": "MP9uPMYmnIgB",
        "outputId": "bac2d1f0-a97c-4e35-945d-3eb72d822e3a"
      },
      "execution_count": 15,
      "outputs": [
        {
          "output_type": "display_data",
          "data": {
            "text/plain": [
              "<Figure size 600x400 with 1 Axes>"
            ],
            "image/png": "[encoded data removed]"
          },
          "metadata": {}
        }
      ]
    },
    {
      "cell_type": "markdown",
      "source": [
        "#21. Write a Python program to train Logistic Regression with different solvers (liblinear, saga, lbfgs) and compare their accuracy."
      ],
      "metadata": {
        "id": "kVH4_qnRnR-S"
      }
    },
    {
      "cell_type": "code",
      "source": [
        "import numpy as np\n",
        "import pandas as pd\n",
        "from sklearn.model_selection import train_test_split\n",
        "from sklearn.linear_model import LogisticRegression\n",
        "from sklearn.metrics import accuracy_score\n",
        "from sklearn.datasets import make_classification\n",
        "\n",
        "X, y = make_classification(n_samples=1000, n_features=10, random_state=42)\n",
        "\n",
        "X_train, X_test, y_train, y_test = train_test_split(X, y, test_size=0.2, random_state=42)\n",
        "\n",
        "solvers = ['liblinear', 'saga', 'lbfgs']\n",
        "accuracies = {}\n",
        "\n",
        "for solver in solvers:\n",
        "    model = LogisticRegression(solver=solver, max_iter=200)\n",
        "    model.fit(X_train, y_train)\n",
        "    y_pred = model.predict(X_test)\n",
        "    accuracy = accuracy_score(y_test, y_pred)\n",
        "    accuracies[solver] = accuracy\n",
        "\n",
        "for solver, acc in accuracies.items():\n",
        "    print(f\"Accuracy with {solver} solver: {acc:.2f}\")\n"
      ],
      "metadata": {
        "colab": {
          "base_uri": "https://localhost:8080/"
        },
        "id": "LmCU0s1MnREE",
        "outputId": "2383ca08-3b60-44bb-8287-ba753c8e282b"
      },
      "execution_count": 20,
      "outputs": [
        {
          "output_type": "stream",
          "name": "stdout",
          "text": [
            "Accuracy with liblinear solver: 0.83\n",
            "Accuracy with saga solver: 0.83\n",
            "Accuracy with lbfgs solver: 0.83\n"
          ]
        }
      ]
    },
    {
      "cell_type": "markdown",
      "source": [
        "#22.Write a Python program to train Logistic Regression and evaluate its performance using Matthews Correlation Coefficient (MCC)."
      ],
      "metadata": {
        "id": "iHDbQ3IinWzH"
      }
    },
    {
      "cell_type": "code",
      "source": [
        "import numpy as np\n",
        "import pandas as pd\n",
        "from sklearn.model_selection import train_test_split\n",
        "from sklearn.linear_model import LogisticRegression\n",
        "from sklearn.metrics import matthews_corrcoef\n",
        "from sklearn.datasets import make_classification\n",
        "\n",
        "X, y = make_classification(n_samples=1000, n_features=10, random_state=42)\n",
        "\n",
        "X_train, X_test, y_train, y_test = train_test_split(X, y, test_size=0.2, random_state=42)\n",
        "\n",
        "model = LogisticRegression()\n",
        "model.fit(X_train, y_train)\n",
        "\n",
        "y_pred = model.predict(X_test)\n",
        "\n",
        "mcc_score = matthews_corrcoef(y_test, y_pred)\n",
        "print(f\"Matthews Correlation Coefficient (MCC): {mcc_score:.2f}\")\n"
      ],
      "metadata": {
        "colab": {
          "base_uri": "https://localhost:8080/"
        },
        "id": "dYDrS401oRwT",
        "outputId": "18a7a16f-5f6e-4891-9092-cfce1047d5ff"
      },
      "execution_count": 19,
      "outputs": [
        {
          "output_type": "stream",
          "name": "stdout",
          "text": [
            "Matthews Correlation Coefficient (MCC): 0.66\n"
          ]
        }
      ]
    },
    {
      "cell_type": "markdown",
      "source": [
        "#23. Write a Python program to train Logistic Regression on both raw and standardized data. Compare their accuracy to see the impact of feature scaling."
      ],
      "metadata": {
        "id": "oDGBRGzDncEI"
      }
    },
    {
      "cell_type": "code",
      "source": [
        "import numpy as np\n",
        "import pandas as pd\n",
        "from sklearn.model_selection import train_test_split\n",
        "from sklearn.linear_model import LogisticRegression\n",
        "from sklearn.preprocessing import StandardScaler\n",
        "from sklearn.metrics import accuracy_score\n",
        "from sklearn.datasets import make_classification\n",
        "\n",
        "X, y = make_classification(n_samples=1000, n_features=10, random_state=42)\n",
        "\n",
        "X_train, X_test, y_train, y_test = train_test_split(X, y, test_size=0.2, random_state=42)\n",
        "\n",
        "model_raw = LogisticRegression()\n",
        "model_raw.fit(X_train, y_train)\n",
        "y_pred_raw = model_raw.predict(X_test)\n",
        "accuracy_raw = accuracy_score(y_test, y_pred_raw)\n",
        "\n",
        "scaler = StandardScaler()\n",
        "X_train_scaled = scaler.fit_transform(X_train)\n",
        "X_test_scaled = scaler.transform(X_test)\n",
        "\n",
        "model_scaled = LogisticRegression()\n",
        "model_scaled.fit(X_train_scaled, y_train)\n",
        "y_pred_scaled = model_scaled.predict(X_test_scaled)\n",
        "accuracy_scaled = accuracy_score(y_test, y_pred_scaled)\n",
        "\n",
        "print(f\"Accuracy on Raw Data: {accuracy_raw:.2f}\")\n",
        "print(f\"Accuracy on Standardized Data: {accuracy_scaled:.2f}\")\n"
      ],
      "metadata": {
        "colab": {
          "base_uri": "https://localhost:8080/"
        },
        "id": "gK3XLFv6oGMn",
        "outputId": "9996a7de-ba06-4cfc-86df-d990fa5a2ae8"
      },
      "execution_count": 18,
      "outputs": [
        {
          "output_type": "stream",
          "name": "stdout",
          "text": [
            "Accuracy on Raw Data: 0.83\n",
            "Accuracy on Standardized Data: 0.83\n"
          ]
        }
      ]
    },
    {
      "cell_type": "markdown",
      "source": [
        "#24. Write a Python program to train Logistic Regression and find the optimal C (regularization strength) using cross-validation."
      ],
      "metadata": {
        "id": "aXk1OnUlnhFt"
      }
    },
    {
      "cell_type": "code",
      "source": [
        "import numpy as np\n",
        "import pandas as pd\n",
        "from sklearn.model_selection import train_test_split, GridSearchCV\n",
        "from sklearn.linear_model import LogisticRegression\n",
        "from sklearn.metrics import accuracy_score\n",
        "from sklearn.datasets import make_classification\n",
        "\n",
        "\n",
        "X, y = make_classification(n_samples=1000, n_features=10, random_state=42)\n",
        "\n",
        "X_train, X_test, y_train, y_test = train_test_split(X, y, test_size=0.2, random_state=42)\n",
        "\n",
        "param_grid = {'C': np.logspace(-3, 3, 7)}\n",
        "\n",
        "grid_search = GridSearchCV(LogisticRegression(max_iter=200), param_grid, cv=5)\n",
        "grid_search.fit(X_train, y_train)\n",
        "\n",
        "best_C = grid_search.best_params_['C']\n",
        "y_pred = grid_search.predict(X_test)\n",
        "accuracy = accuracy_score(y_test, y_pred)\n",
        "\n",
        "print(f\"Optimal C Value: {best_C}\")\n",
        "print(f\"Model Accuracy with Optimal C: {accuracy:.2f}\")\n"
      ],
      "metadata": {
        "colab": {
          "base_uri": "https://localhost:8080/"
        },
        "id": "jdJ5EUJ7n4kv",
        "outputId": "1698ea82-cc52-4531-d4b4-09e269acebe6"
      },
      "execution_count": 17,
      "outputs": [
        {
          "output_type": "stream",
          "name": "stdout",
          "text": [
            "Optimal C Value: 0.01\n",
            "Model Accuracy with Optimal C: 0.82\n"
          ]
        }
      ]
    },
    {
      "cell_type": "markdown",
      "source": [
        "#25. Write a Python program to train Logistic Regression, save the trained model using joblib, and load it again to make predictions."
      ],
      "metadata": {
        "id": "TWIXiBpLnl9a"
      }
    },
    {
      "cell_type": "code",
      "source": [
        "import numpy as np\n",
        "import pandas as pd\n",
        "import joblib\n",
        "from sklearn.model_selection import train_test_split\n",
        "from sklearn.linear_model import LogisticRegression\n",
        "from sklearn.metrics import accuracy_score\n",
        "from sklearn.datasets import make_classification\n",
        "\n",
        "X, y = make_classification(n_samples=1000, n_features=10, random_state=42)\n",
        "\n",
        "X_train, X_test, y_train, y_test = train_test_split(X, y, test_size=0.2, random_state=42)\n",
        "\n",
        "model = LogisticRegression()\n",
        "model.fit(X_train, y_train)\n",
        "\n",
        "joblib.dump(model, \"logistic_model.pkl\")\n",
        "print(\"Model saved successfully!\")\n",
        "\n",
        "loaded_model = joblib.load(\"logistic_model.pkl\")\n",
        "\n",
        "y_pred = loaded_model.predict(X_test)\n",
        "\n",
        "accuracy = accuracy_score(y_test, y_pred)\n",
        "print(f\"Model Accuracy after loading: {accuracy:.2f}\")\n"
      ],
      "metadata": {
        "colab": {
          "base_uri": "https://localhost:8080/"
        },
        "id": "o5G_S4isnp2G",
        "outputId": "8f8ef7a8-b298-4b68-f943-f9749f4f08b9"
      },
      "execution_count": 16,
      "outputs": [
        {
          "output_type": "stream",
          "name": "stdout",
          "text": [
            "Model saved successfully!\n",
            "Model Accuracy after loading: 0.83\n"
          ]
        }
      ]
    }
  ]
}